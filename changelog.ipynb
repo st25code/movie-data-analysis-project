{
 "cells": [
  {
   "cell_type": "markdown",
   "id": "74f0485e",
   "metadata": {},
   "source": [
    "## Changelog\n",
    "This file contains the notable changes to the project\n",
    "\n",
    "### **Version 1.0.0 (10-05-2025)**\n",
    "\n",
    "#### Changes\n",
    "\n",
    "* Used advanced range sorting: first by `Release Date` (column B), then by `Movie Title` (column A), both in ascending order (A → Z)\n",
    "* Formatted `Budget ($)` (column M) and `Box Office Revenue ($)` (column N) as currency\n"
   ]
  },
  {
   "cell_type": "markdown",
   "id": "beab1285",
   "metadata": {},
   "source": [
    "### **Version 1.1.0 (11-05-2025)**\n",
    "\n",
    "#### New\n",
    "* Defined analysis steps:\n",
    "  * Total revenue per year\n",
    "  * Pivot table to show revenue by year\n",
    "  * Average revenue per movie\n",
    "  * Trend identification based on findings\n",
    "* Created additional pivot table for movies with revenue under \\$10M\n",
    "* Calculated percent of low-revenue movies by year\n",
    "\n",
    "#### Changes\n",
    "\n",
    "* Highlighted 2015 as the year with highest count and percentage of low-revenue movies (16.13%), explaining overall revenue drop despite high movie count\n"
   ]
  },
  {
   "cell_type": "markdown",
   "id": "f436223b",
   "metadata": {},
   "source": [
    "### **Version 1.1.1 (11-05-2025)**\n",
    "\n",
    "#### New\n",
    "\n",
    "* Created pivot table to calculate average box office revenue, budget, and profit by genre\n",
    "* Built horizontal bar chart to visualize average revenue by genre\n",
    "\n",
    "#### Changes\n",
    "\n",
    "* Identified top-performing genres by average profit: \n",
    "`Adventure`, `Family` and `Sci-Fi`\n",
    "* Noted that genres with low budgets (e.g. *Religious*, *Crime*) tend to show lower average profit and revenue"
   ]
  }
 ],
 "metadata": {
  "language_info": {
   "name": "python"
  }
 },
 "nbformat": 4,
 "nbformat_minor": 5
}
