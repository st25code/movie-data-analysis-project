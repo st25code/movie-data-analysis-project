{
 "cells": [
  {
   "cell_type": "markdown",
   "id": "74f0485e",
   "metadata": {},
   "source": [
    "## Changelog\n",
    "This file contains the notable changes to the project\n",
    "\n",
    "### **Version 1.0.0 (10-05-2025)**\n",
    "\n",
    "#### Changes\n",
    "\n",
    "* Used advanced range sorting: first by `Release Date` (column B), then by `Movie Title` (column A), both in ascending order (A → Z)\n",
    "* Formatted `Budget ($)` (column M) and `Box Office Revenue ($)` (column N) as currency\n"
   ]
  },
  {
   "cell_type": "markdown",
   "id": "beab1285",
   "metadata": {},
   "source": [
    "### **Version 1.1.0 (11-05-2025)**\n",
    "\n",
    "#### New\n",
    "\n",
    "* Defined analysis steps:\n",
    "\n",
    "  * Total revenue per year\n",
    "  * Pivot table to show revenue by year\n",
    "  * Average revenue per movie\n",
    "  * Trend identification based on findings\n",
    "* Created additional pivot table for movies with revenue under \\$10M\n",
    "* Calculated percent of low-revenue movies by year\n",
    "* Calculated year-over-year growth in box office revenue (both absolute and percentage)\n",
    "\n",
    "#### Changes\n",
    "\n",
    "* Highlighted **2015** as the year with:\n",
    "\n",
    "  * The **highest count and percentage** of low-revenue movies (16.13%)\n",
    "  * The **largest annual revenue drop** by dollar amount (-\\$6.49B) and percent (-32.44%)\n",
    "  * The highest number of released movies (124) — but this did not lead to higher total revenue, confirming that quality matters more than quantity"
   ]
  },
  {
   "cell_type": "markdown",
   "id": "f436223b",
   "metadata": {},
   "source": [
    "### **Version 1.1.1 (11-05-2025)**\n",
    "\n",
    "#### New\n",
    "\n",
    "* Created pivot table to calculate average box office revenue, budget, and profit by genre\n",
    "* Built horizontal bar chart to visualize average revenue by genre\n",
    "\n",
    "#### Changes\n",
    "\n",
    "* Identified top-performing genres by average profit: \n",
    "`Adventure`, `Family` and `Sci-Fi`\n",
    "* Noted that genres with low budgets (e.g. *Religious*, *Crime*) tend to show lower average profit and revenue"
   ]
  },
  {
   "cell_type": "markdown",
   "id": "05e15d7f",
   "metadata": {},
   "source": [
    "### **Version 1.1.2 (12-05-2025)**\n",
    "\n",
    "#### New\n",
    "\n",
    "* Created scatter plot comparing **average budget** vs **average box office revenue** by genre\n",
    "\n",
    "#### Changes\n",
    "\n",
    "* Identified two strategic directions for film studios based on budget:\n",
    "\n",
    "  * **High-budget strategy**: focus on *Adventure*, *Family*, and *Sci-Fi* genres, which show the highest return on large investments\n",
    "  * **Low-budget strategy**: focus on *Thriller*, *Musical*, and *Comedy*, which perform relatively well with lower budgets\n",
    "* Found that genres with **budgets over \\$50M** tend to bring in **\\$100M+ more average profit** than genres with lower budgets\n"
   ]
  },
  {
   "cell_type": "markdown",
   "id": "4309b38b",
   "metadata": {},
   "source": [
    "### **Version 1.2.0 (12-05-2025)**\n",
    "\n",
    "#### New\n",
    "\n",
    "* Executed 6 SQL queries to explore additional patterns in the dataset:\n",
    "\n",
    "  * `1_director_movie_count.sql`\n",
    "  * `2_high_budget_actors.sql`\n",
    "  * `3_low_revenue_genres.sql`\n",
    "  * `4_actor_revenue_avg.sql`\n",
    "  * `5_revenue_by_month.sql`\n",
    "  * `5_1_revenue_by_month_and_genre.sql`\n",
    "\n",
    "#### Insights from SQL analysis:\n",
    "\n",
    "* Most prolific director: **David Ayer**\n",
    "* Most frequent actors in high-budget films (>\\$100M):\n",
    "  **Hugh Jackman**, **Matt Damon**, **Tom Cruise** (3 films each)\n",
    "* Genres with the most low-revenue movies (<\\$10M):\n",
    "  **Drama (20)**, **Comedy (11)**, **Action (6)**\n",
    "  → **Comedy is risky**: high average profit *for low-budget movies*, but many underperforming titles.\n",
    "* **Tom Cruise** starred in 6 movies with an average revenue of **\\$328.9M** — a strong box office draw for suitable genres and budgets.\n",
    "* Most profitable release months: **May**, **June**, **July**, **November**, and **December**\n"
   ]
  }
 ],
 "metadata": {
  "language_info": {
   "name": "python"
  }
 },
 "nbformat": 4,
 "nbformat_minor": 5
}
